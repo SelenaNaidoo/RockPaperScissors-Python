{
 "cells": [
  {
   "cell_type": "code",
   "execution_count": null,
   "id": "132daef8",
   "metadata": {},
   "outputs": [
    {
     "name": "stdout",
     "output_type": "stream",
     "text": [
      "Make your move, Rock, Paper or Scissors?rock\n",
      "That's not a valid play.Check your spelling!\n",
      "Make your move, Rock, Paper or Scissors?Rock\n",
      "You lose! Paper covers Rock\n",
      "Make your move, Rock, Paper or Scissors?Rock\n",
      "Tie!\n",
      "Make your move, Rock, Paper or Scissors?Scissors\n",
      "You win! Scissors cuts Paper\n",
      "Make your move, Rock, Paper or Scissors?Paper\n",
      "You win! Paper covers Rock\n",
      "Make your move, Rock, Paper or Scissors?rock\n",
      "That's not a valid play.Check your spelling!\n",
      "Make your move, Rock, Paper or Scissors?Rock\n",
      "You lose! Paper covers Rock\n",
      "Make your move, Rock, Paper or Scissors?Rock\n",
      "You lose! Paper covers Rock\n",
      "Make your move, Rock, Paper or Scissors?Rock\n",
      "You win! Rock smashes Scissors\n",
      "Make your move, Rock, Paper or Scissors?Scissor\n",
      "That's not a valid play.Check your spelling!\n",
      "Make your move, Rock, Paper or Scissors?Scissors\n",
      "Tie!\n",
      "Make your move, Rock, Paper or Scissors?Paper\n",
      "You lose! Scissors cuts Paper\n"
     ]
    }
   ],
   "source": [
    "#make use of randint as per documentation instructions \n",
    "from random import randint\n",
    "\n",
    "#create a list of options the user can use\n",
    "moves = [\"Rock\",\"Paper\",\"Scissors\"]\n",
    "\n",
    "# create random play for the machine \n",
    "machine = moves[randint(0,2)] #this ensures that a different choice is made everytime\n",
    "#so that the machine does not repeat the same moves\n",
    "# 0,2 means the positions of the moves- indexing basically.\n",
    "#this is similar to random.choice\n",
    "#set user to false... this will ensure that the loop continues to run\n",
    "#setting the value to false allows the loop to restart\n",
    "user = False\n",
    "\n",
    "while user == False:\n",
    "    #starting the game allows the user to be true\n",
    "    #make use input their move\n",
    "    user = input(\"Make your move, Rock, Paper or Scissors?\")\n",
    "    #if the user and machine have the same guess\n",
    "    if user == machine:\n",
    "        print(\"Tie!\")\n",
    "        #if the user has picked rocked and machine picks paper\n",
    "    elif user == \"Rock\":\n",
    "        if machine == \"Paper\":\n",
    "            print(\"You lose!\", machine, \"covers\",user)\n",
    "        else:\n",
    "            print(\"You win!\", user, \"smashes\",machine)\n",
    "    #if use picks paper and machine randomly selects scissors\n",
    "    elif user == \"Paper\":\n",
    "        if machine == \"Scissors\":\n",
    "            print(\"You lose!\", machine, \"cuts\", user)\n",
    "        else:\n",
    "            print(\"You win!\", user, \"covers\", machine)\n",
    "        # user chooses scissors and machine randomly selects rock\n",
    "    elif user == \"Scissors\":\n",
    "        if machine == \"Rock\":\n",
    "            print(\"You lose!\", machine, \"smashes\", user)\n",
    "        else:\n",
    "            print(\"You win!\",user, \"cuts\", machine)\n",
    "    else:\n",
    "        print(\"That's not a valid play.Check your spelling!\")\n",
    "        \n",
    "        # user was set to true, however it needs to be false in order for the loop to run again \n",
    "    user = False\n",
    "    machine = moves[randint(0,2)]\n",
    "    "
   ]
  },
  {
   "cell_type": "code",
   "execution_count": null,
   "id": "8d38fa93",
   "metadata": {
    "collapsed": true
   },
   "outputs": [],
   "source": []
  }
 ],
 "metadata": {
  "kernelspec": {
   "display_name": "Python 3",
   "language": "python",
   "name": "python3"
  },
  "language_info": {
   "codemirror_mode": {
    "name": "ipython",
    "version": 3
   },
   "file_extension": ".py",
   "mimetype": "text/x-python",
   "name": "python",
   "nbconvert_exporter": "python",
   "pygments_lexer": "ipython3",
   "version": "3.8.8"
  }
 },
 "nbformat": 4,
 "nbformat_minor": 5
}
